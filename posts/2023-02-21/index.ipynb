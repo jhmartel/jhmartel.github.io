{
  "nbformat": 4,
  "nbformat_minor": 0,
  "metadata": {
    "colab": {
      "provenance": [],
      "authorship_tag": "ABX9TyM3vlOP7TwjbzkhUbg8JCr8",
      "include_colab_link": true
    },
    "kernelspec": {
      "name": "python3",
      "display_name": "Python 3"
    },
    "language_info": {
      "name": "python"
    }
  },
  "cells": [
    {
      "cell_type": "markdown",
      "metadata": {
        "id": "view-in-github",
        "colab_type": "text"
      },
      "source": [
        "<a href=\"https://colab.research.google.com/github/jhmartel/jhmartel.github.io/blob/main/posts/2023-02-21/index.ipynb\" target=\"_parent\"><img src=\"https://colab.research.google.com/assets/colab-badge.svg\" alt=\"Open In Colab\"/></a>"
      ]
    },
    {
      "cell_type": "markdown",
      "source": [
        "\n",
        "---\n",
        "title: \"Test Blog JHM\"\n",
        "author: \"JHM\"\n",
        "date: \"2023-02-21\"\n",
        "categories: [blogging, quarto, jupyter]\n",
        "image: \"jupyter_logo.png\"\n",
        "---"
      ],
      "metadata": {
        "id": "Aozi5QJPYzk_"
      }
    }
  ]
}