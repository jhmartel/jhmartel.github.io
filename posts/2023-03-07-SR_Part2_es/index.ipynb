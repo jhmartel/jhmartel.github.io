{
 "cells": [
  {
   "cell_type": "raw",
   "id": "84bd9e7c-a420-481e-a0a7-2200d3807f1a",
   "metadata": {},
   "source": [
    "---\n",
    "title: \"Fundamentos de Relatividad Especial y Propagacion de la Luz en el Vacío. Una revisión crítica (2/4).\"\n",
    "author: \"JHM\"\n",
    "date: \"2022-03-07\"\n",
    "categories: [SR, es, light]\n",
    "image: \"image1.png\"\n",
    "---\n"
   ]
  },
  {
   "cell_type": "markdown",
   "id": "f7363c9d-f54d-47d7-83d4-4507150d8e57",
   "metadata": {},
   "source": [
    "En la Parte 2/4 de nuestra revisión crítica de SR, discutimos los errores en la famosa prueba de frente de onda esférico de Einstein. En última instancia, argumentamos que la Ley de Propagación de la Luz (A2) no es invariante de Lorentz, contrariamente a las afirmaciones de Einstein. El error es sutil.\n",
    "\n"
   ]
  },
  {
   "cell_type": "markdown",
   "id": "49c132df-3843-4ae8-9439-78142a54bcb2",
   "metadata": {},
   "source": [
    "# _Dificultades aparentes en la RS y el Intento de Resolución de Einstein_\n",
    "\n",
    "En el artículo anterior (Parte 1/4) revisamos los supuestos básicos de la RS, representados en los supuestos que llamamos (A1) y (A2).\n",
    "\n",
    "\n",
    "- (A1) que las leyes de la física son las mismas en todos los marcos de referencia no acelerados, es decir, si $K'$ es un sistema de coordenadas que se mueve uniformemente (y sin rotación) con respecto a un sistema de coordenadas $K$, entonces los fenómenos naturales se ejecutan su curso con respecto a $K'$ según exactamente las mismas leyes que con respecto a $K$.\n",
    "\n",
    "- (A2) que la luz en el vacío se propaga a lo largo de líneas rectas con velocidad constante $c = 300.000 ~km/sec$.\n",
    "\n",
    "La conjunción $(A12):=(A1) \\wedge (A2)$ conduce a dificultades intelectuales, como admite el propio Einstein. Pero estas dificultades son sólo _incompatibilidades aparentes_ según Einstein que se resuelven postulando las transformaciones de Lorentz. La afirmación de que las fórmulas de Lorentz resuelven todas las dificultades aparentes en (A12) se deriva de dos afirmaciones:\n",
    "\n",
    "- Afirmación (i): que los marcos inerciales $K, K'$ están relacionados por transformaciones de Lorentz.\n",
    "\n",
    "\n",
    "- Afirmación (ii): que la ley de propagación de la luz (A2) es invariante de Lorentz. Es decir. si (A2) se cumple en $K$ , entonces (A2) se cumple en cada traducción de Lorentz $K′=\\lambda.K$.\n",
    "\n",
    "La cuestión clave es verificar si (A2) realmente se deriva de las Reivindicaciones (i) y (ii). Este es el tema del argumento del frente de onda esférico de Einstein que examinamos a continuación.\n",
    "\n",
    "\n"
   ]
  },
  {
   "cell_type": "markdown",
   "id": "b4f5d6ac-c6ea-417e-8d02-f3402333aa35",
   "metadata": {},
   "source": [
    "\n",
    "# Crítica de la Prueba de la Compatibilidad de (A12) de Einstein con las Transformaciones de Lorentz\n",
    "\n",
    "Fuimos llevados a revisar la RS de Einstein leyendo los artículos de S.J. Crothers y R. Bryant, que alegan que la prueba de ondas esféricas de Einstein contiene errores significativos.\n",
    "\n",
    "El argumento de Einstein busca derivar la afirmación (ii) como una consecuencia matemática de la afirmación (i). El punto de partida es la propiedad fundamental de las transformaciones de Lorentz, que la expresión cuadrática $$x^2+y^2+z^2 = c^2 t^2$$ es invariante con respecto a las transformaciones de Lorentz. En otras palabras, el cono nulo $N$ es Lorentz _covariant_. Así si $$(\\xi, \\eta, \\zeta, \\tau)=\\lambda. (x,y,z,t)$$ para una transformada de Lorentz $\\lambda$, entonces tenemos\n",
    "\n",
    "- [Eq1] $$\\xi^2 + \\eta^2+\\zeta^2 = c^2 \\tau^2.$$\n",
    "\n",
    "Pero, ¿qué representa la expresión [Eq1]?\n",
    "\n",
    "Aquí está el primer error de Einstein: su argumento _identifica erróneamente_ [Eq1] con \"la ecuación de una esfera\". El error es sutil. Pero el hecho es que [Eq1] es estrictamente hablando un cono tridimensional en las cuatro variables independientes $\\xi, \\eta, \\zeta, \\tau$. De hecho, el cono contiene muchos subconjuntos bidimensionales esféricos, pero nuestro punto es que _una segunda ecuación independiente_ es necesaria para especificar estas esferas. ¡Y estas ecuaciones independientes no pueden elegirse Lorent invariablemente!\n",
    "\n",
    "Penrose en su libro de texto con Rindler es bastante cuidadoso aquí. El enfoque de Penrose es proyectar [Eq1] y obtener una _esfera proyectiva_ con una estructura conforme invariante de Lorentz definida de manera única.\n",
    "\n",
    "Pero nuevamente debemos enfatizar que no existe una métrica canónica invariante con respecto al grupo de Lorentz sobre la proyectivización. En otras palabras, la esfera nula tiene una estructura conforme invariante de Lorentz, pero no tiene una estructura riemanniana invariante de Lorentz.\n",
    "\n",
    "Por ejemplo, la esfera redonda estándar $S$ centrada en el origen satisface simultáneamente [Eq1] and additionally the equation $$\\frac{1}{2}d(\\xi^2+\\eta^2+\\zeta^2)=\\xi d\\xi+\\eta d\\eta +\\zeta d\\zeta=0.$$ En resumen, la esfera redonda requiere que _dos_ formas cuadráticas $ \\xi^2+\\eta^2+\\zeta^2$ y $c^2\\tau^2$ sean _simultáneamente constantes_.\n",
    "\n",
    "Esto nos lleva al segundo error de Einstein, que es no observar que la invariancia de Lorentz de la forma cuadrática $h=x^2+y^2+z^2-c^2t^2$ de ninguna manera implica la invariancia de Lorentz de $h_1:=x^2+y^2+z^2$ y $h_2:=c^2 t^2$.\n",
    "\n",
    "De hecho, las formas cuadráticas $h_1, h_2$ son degeneradas, con radicales no triviales $rad(h_1)=\\{x=y=z=0\\}$ y $rad(h_2)=\\{t=0\\}.$ La los radicales son subespacios lineales de ${\\bf{R}}^4$. Pero si $h_1, h_2$ son invariantes, entonces $rad(h_1)$ y $rad(h_2)$ también son subespacios invariantes no triviales. Esto contradice el hecho de que la representación lineal estándar del grupo de Lorentz actúa irreduciblemente sobre ${\\bf{R}}^4$.\n",
    "\n",
    "Para resumir los dos errores en el famoso argumento de Einstein:\n",
    "\n",
    "- el cono $\\xi^2 + \\eta^2+\\zeta^2 = c^2 \\tau^2$ se identifica erróneamente como la ecuación de una esfera.\n",
    "\n",
    "- la invariancia de Lorentz de $\\xi^2 + \\eta^2+\\zeta^2 = c^2 \\tau^2$ no implica la invariancia de Lorentz de las formas $\\xi^2 + \\eta^2+\\zeta^2$ y $c^2 \\tau^2$.\n",
    "\n",
    "En otras palabras, la igualdad numérica entre $\\xi^2 + \\eta^2+\\zeta^2$ y $c^2\\tau^2$ siempre se mantiene, pero los valores reales alcanzados por las expresiones _no_ son invariantes de Lorentz.\n",
    "\n",
    "Nos estamos repitiendo porque este es un punto algo sutil que se pasa por alto fácilmente."
   ]
  },
  {
   "cell_type": "markdown",
   "id": "c562259c-e257-43f8-abe9-064ed8abc0c2",
   "metadata": {},
   "source": [
    "# _Cálculos elementales en_ ${\\bf{R}}^{1,1}$\n",
    "\n",
    "Para ilustrar las ideas anteriores, es conveniente examinar algunos cálculos elementales en dos variables. Por lo tanto, consideramos ${\\bf{R}^2}$ con coordenadas $(x,t)$ y $(\\xi, \\tau)$.\n",
    "\n",
    "Por conveniencia numérica establecemos $c:=1$.\n",
    "\n",
    "Por lo tanto, $h=x^2-t^2$ es una forma cuadrática en ${\\bf{R}}^2$ invariante con respecto al grupo unidimensional de Lorentz $G=SO(1,1)_0$ generado por $$a_\\theta:=\\begin{pmatrix} \\cosh \\theta & \\sinh \\theta \\\\\n",
    "\\sinh \\theta & \\cosh \\theta\n",
    "\\end{pmatrix}$$ por $\\theta\\in {\\bf{R}}$.\n",
    "\n",
    "En dos dimensiones, el cono nulo $$N=\\{x^2-t^2=0\\}$$ se proyecta a una esfera de dimensión $0$ que consta de dos puntos proyectivos representados por las líneas afines $x-t=0$ y $ x+t=0$.\n",
    "\n",
    "La esfera redonda $0$-dimensional $\\{x^2=1\\}$ consta de dos vectores en el cono nulo, a saber, $$\\begin{pmatrix} 1 \\\\ 1\\end{pmatrix}, ~~~\\begin {pmatrix} -1 \\\\ 1\\end{pmatrix}.$$\n",
    "\n",
    "Si trasladamos estos vectores por $a_\\theta$, encontramos la traducción $$\\begin{pmatrix} \\xi \\\\ \\tau \\end{pmatrix}=\\begin{pmatrix} \\cosh \\theta+\\sinh \\theta \\\\ \\cosh \\theta+\\sinh \\theta \\end{pmatrix}~~\\text{y} \\begin{pmatrix} -\\cosh \\theta+\\sinh \\theta \\\\ \\cosh \\theta-\\sinh \\theta \\end{pmatrix}.$$\n",
    "\n",
    "Pero evidentemente $$\\xi^2 \\neq x^2=1^2=1$$ y $$\\tau^2 \\neq t^2=1$$ cuando $\\theta\\neq 0$. Así, las formas cuadráticas $h_1=x^2$ y $h_2=t^2$ _no_ son_ $a_\\theta$-invariantes. Asimismo encontramos que la imagen de la esfera unitaria $x^2=1$ no corresponde a una esfera espacial en coordenadas $(\\xi, \\tau)$.\n",
    "\n",
    "Estos cálculos triviales tienen el efecto de falsificar la supuesta invariancia de Lorentz de las ondas de luz esféricas. Sin embargo, la \"pendiente\" de $\\begin{pmatrix} 1 \\\\ 1\\end{pmatrix}$ y $$a_\\theta.\\begin{pmatrix} 1 \\\\ 1\\end{pmatrix}=\\begin{pmatrix} \\cosh \\theta+\\sinh \\theta \\\\ \\cosh \\theta+\\sinh \\theta \\end{pmatrix}$$ es idénticamente igual a $c=1$ de acuerdo con (A2).\n",
    "\n",
    "Para ilustrar mejor los comentarios anteriores sobre la inexistencia de parámetros canónicos en $N$, considere que para cualquier función monótona $C^1$\n",
    "$$ f: {\\bf{R}} \\to {\\bf{R}} $$ obtenemos una curva $$\\epsilon(t)=\\epsilon_f(t)=\\begin{pmatrix} f(t) \\ \\ f(t) \\end{pmatrix}=f(t) \\begin{pmatrix} 1 \\\\ 1 \\end{pmatrix}$$ para $t\\in {\\bf{R}}$.\n",
    "\n",
    "Entonces $\\epsilon_f(t)$ se apoya en una línea recta en $N$, y se puede decir que el \"fotón\" $\\epsilon_f$ _se propaga en línea recta con velocidad constante_ $c=1$.\n",
    "\n",
    "Podría decirse que $\\epsilon_f$ _no es uniforme_ en el parámetro $t$, pero argumentamos que no existe una definición _invariante de Lorentz_ de \"parámetro uniforme\" en el cono nulo.\n",
    "\n",
    "Esto está relacionado con nuestra discusión en la Parte 1 sobre el intento de Levi-Civita de derivar una ecuación geodésica para la propagación de la luz, es decir, la hipótesis de que la luz viaja con aceleración cero. Razonamos que esta es una hipótesis adicional arbitraria, y no una consecuencia de los supuestos formales (A12).\n",
    "\n",
    "En las Partes 3/4 y 4/4 restantes de este artículo, consideramos las ecuaciones de onda homogéneas y las transformaciones de Lorentz. Como hemos indicado previamente, encontramos que (A12) es incompatible con _tanto_ los modelos de luz de onda como de partículas.\n",
    "\n",
    "\n"
   ]
  }
 ],
 "metadata": {
  "kernelspec": {
   "display_name": "Python 3",
   "language": "python",
   "name": "python3"
  },
  "language_info": {
   "codemirror_mode": {
    "name": "ipython",
    "version": 3
   },
   "file_extension": ".py",
   "mimetype": "text/x-python",
   "name": "python",
   "nbconvert_exporter": "python",
   "pygments_lexer": "ipython3",
   "version": "3.9.5"
  }
 },
 "nbformat": 4,
 "nbformat_minor": 5
}
