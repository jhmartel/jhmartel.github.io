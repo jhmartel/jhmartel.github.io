{
 "cells": [
  {
   "cell_type": "raw",
   "id": "289b787d-c0ca-4b29-923d-7234f316ed43",
   "metadata": {},
   "source": [
    "---\n",
    "title: \"Foundations of Special Relativity and Light Propagation in Vacuum. A Critical Review (3/4).\"\n",
    "author: \"JHM\"\n",
    "date: \"2022-03-08\"\n",
    "categories: [SR, es, light]\n",
    "image: \"image4.png\"\n",
    "---\n"
   ]
  },
  {
   "cell_type": "markdown",
   "id": "f92051a5-ae68-41a0-b28f-70bd1369e125",
   "metadata": {},
   "source": [
    "In Part 3/4 of our critical review of SR we examine the homogeneous wave equation and its properties under Lorentz transformations.\n",
    "\n",
    "# _Homogeneous Wave Equation, Lorentz Transformations and SR_\n",
    "\n",
    "In Parts 1 and 2 of this series we focussed on Minkowski space, linear algebra of Lorentz transformations, and the null cone. These discussions were mainly based on the photon model of light. \n",
    "\n",
    "In Part 3 we consider the wave model of light, and specifically properties of Lorentz transformations and the homogeneous wave equation (HWE).\n",
    "\n",
    "Briefly, Einstein's attempted proof of Claims (i) and (ii) that the Lorentz formulae resolves all the apparent contradictions of (A12) is based on the idea of light propagating a constant speed $c$ which is identical for all observers. From Einstein's spherical wavefront argument, we see that Einstein understood (A12) as implying that light pulses propagate in geometrically spherical wave fronts in _every_ inertial reference frame $K$. In terms of the HWE this implies that there exists a Lorentz invariant class of radial solutions to (HWE). As we discuss below, radial solutions exist canonically for any single reference frame $K$. However the arguments from Parts 1 and 2 demonstrate that no Lorentz invariant set of radial solutions can exist simultaneously for all reference frames $K'$. \n",
    "\n",
    "# _d'Alembert_ $\\square$ _is Unique Lorentz Invariant 2nd Order Linear Differential Operator_\n",
    "\n",
    "In Part 1 we briefly mentioned an interesting result of Elton-Arminjon on the Minkowski metric $$h=d\\xi^2 + d\\eta^2 + d \\zeta^2 - c^2 \\tau^2$$ being the unique Lorentz invariant symmetric quadratic form on ${\\bf{R}}^4$ (modulo homothety). Their proof has useful corollary in terms of the HWE. \n",
    "\n",
    "Let $\\square$ be d'Alembert's wave operator. Then $\\square$ is a second order homogeneous linear differential operator, in coordinates having the form $$\\square = \\frac{\\partial^2}{\\partial \\xi^2} +\\frac{\\partial^2}{\\partial \\eta^2}+\\frac{\\partial^2}{\\partial \\zeta^2}-\\frac{1}{c^2}\\frac{\\partial^2}{\\partial \\tau^2}.$$\n",
    "\n",
    "Informally we view $\\square$ as essentially dual to Minkowski's form $h$. Somewhat more rigorously, we find Elton-Arminjon's argument proves the following:\n",
    "\n",
    "- Lemma: Let $C$ be the algebra of polynomial functions on ${\\bf{R}}^4$, and let $\\rho^*$ be the contragredient representation of the Lorentz group on $C$. Then d'Alembert's wave operator $\\square$ is the unique Lorentz invariant second order linear differential operator on $C$ modulo homothety.\n",
    "\n",
    "It follows that Einstein's Claim (i) that different inertial frames $K, K'$ are related by Lorentz transformations also implies that d'Alembert's operator $\\square$ is essentially the unique second order operator defined simultaneously for all inertial observers. This means the HWE is the only Lorentz invariant second order equation on ${\\bf{R}}^4$.\n",
    "\n",
    "The Lorentz invariance of the HWE implies that solutions to the HWE are Lorentz _covariant_. To be precise, if $\\phi=\\phi(x,y,z,t)$ is a regular function satisfying the HWE, namely\n",
    "$$ \\phi_{xx}+\\phi_{yy}+\\phi_{zz}-\\frac{1}{c^2}\\phi_{tt}=0, $$ and if $\\lambda$ is a Lorentz transform with $$(\\xi, \\eta, \\zeta, \\tau)=\\lambda.(x,y,z,t),$$ then $$\\phi':=\\lambda^*(\\phi)=\\phi\\circ\\lambda^{-1}$$ is again a solution of the HWE: $$\\phi_{\\xi \\xi}+\\phi_{\\eta \\eta}+\\phi_{\\zeta \\zeta}-\\frac{1}{c^2}\\phi_{\\tau \\tau}=0.$$ This is verified by elementary computation.\n",
    "\n",
    "The above discussion is completely elementary. More significant is the interpretation of (A12) in terms of the HWE. \n",
    "\n",
    "# _Radius is Not a Lorentz Invariant Variable_\n",
    "\n",
    "We understand (A12) as declaring that there exists a distinguished Lorentz invariant class of solutions to HWE which correspond to spherical light waves. However we argue that this contradicts the properties of HWE. Specifically _there does not exist a Lorentz invariant set of radial solutions to the HWE._\n",
    "\n",
    "Indeed the spatial radius variable $r^2=x^2+y^2+z^2$ is not a Lorentz invariant variable. This was discussed in Part 2, but we can give another explanation in terms of Lie groups. \n",
    "\n",
    "In group theoretic terms, a solution $\\phi=\\phi(x,t)$ of HWE is said to be _radial by an observer $K$_ iff $\\phi(Ax,t)=\\phi(x,t)$ for every rigid motion $A\\in SO(3)$ in the space variables $x,y,z$ of $K$. Implicitly this requires a Lie group representation $\\rho$ of $SO(3)$ into the Lorentz group $G\\simeq O(3,1)$. But this choice of maximal compact subgroup is noncanonical. Different inertial observers $K, K'$ generally choose different orthogonal symmetry groups, e.g. according to their own physical sum of squares formula $\\xi^2+\\eta^2+\\zeta^2$. \n",
    "\n",
    "Of course the Minkowski form $h$ is invariant and canonical, but any decomposition into \"spatial\" and \"time\" components requires _arbitrary observer dependant choices_, and these choices cannot be Lorentz invariant. \n",
    "\n",
    "For example, while the open set of timelike vectors $\\{h(v) < 0\\}$ is invariantly defined, there is no Lorentz invariant choice of timelike vector. Likewise among the spacelike set $\\{h(v)>0\\}$ there is no Lorentz invariant choice of orthogonal three-dimensional frame. \n",
    "\n",
    "\n",
    "Furthermore, for the motion of light pulses according to (A12) the Minkowski element vanishes identically, and the only canonical tensor element becomes the constant zero element. After a Lorentz change of variables we find a new solution $\\phi'$ as above, but this solution need not be radial in the inertial frame $K'$. Indeed the rigid $K$-space motion $A$ will not generally preserve the space coordinates $\\xi, \\eta, \\zeta$ of $K'$. Thus we find $A$-motions nontrivially depend on the $K'$-time variable $\\tau$. This again reflects the nonexistence of a Lorentz invariant radius.\n",
    "\n",
    "\n",
    "\n",
    "# _Conclusion_\n",
    "\n",
    "This concludes our mathematical analysis of the foundations of SR, especially Einstein's Assumptions (A12) and his attempted resolution via Lorentz formulae and Claims (i) and (ii).\n",
    "\n",
    "Ultimately the Lorentz transformations do not have the necessary properties to maintain (A12). The so-called Law of Propagation of Light (A2) is not a Lorentz invariant law, and therefore does not itself satisfy the Principle of Restricted Relativity as supposed by Einstein in his Assumption (A1).\n",
    "\n",
    "In our final Part 4 of this series, we present some potential objections to our arguments and attempt to anticipate some criticisms. However we must maintain that all the above arguments are _mathematically correct_. Any constructive comments or feedback are welcome at the author's address jhmLabs &&a.t.&& gmail d&&0t&& com. "
   ]
  }
 ],
 "metadata": {
  "kernelspec": {
   "display_name": "Python 3",
   "language": "python",
   "name": "python3"
  },
  "language_info": {
   "codemirror_mode": {
    "name": "ipython",
    "version": 3
   },
   "file_extension": ".py",
   "mimetype": "text/x-python",
   "name": "python",
   "nbconvert_exporter": "python",
   "pygments_lexer": "ipython3",
   "version": "3.9.5"
  }
 },
 "nbformat": 4,
 "nbformat_minor": 5
}
