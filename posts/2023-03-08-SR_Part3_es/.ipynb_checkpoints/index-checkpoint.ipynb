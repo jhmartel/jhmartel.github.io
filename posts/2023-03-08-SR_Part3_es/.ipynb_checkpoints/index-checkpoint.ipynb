{
 "cells": [
  {
   "cell_type": "raw",
   "id": "7e44c877-b8fd-4fcb-ae3c-bc165a21447b",
   "metadata": {},
   "source": [
    "---\n",
    "title: \"Fundamentos de Relatividad Especial y Propagacion de la Luz en el Vacío. Una revisión crítica (3/4).\"\n",
    "author: \"JHM\"\n",
    "date: \"2022-03-08\"\n",
    "categories: [SR, es, light]\n",
    "image: \"image3.png\"\n",
    "---\n"
   ]
  },
  {
   "cell_type": "markdown",
   "id": "42a8dd7b-f642-4dd8-b856-46213a673b93",
   "metadata": {},
   "source": [
    "En la Parte 3/4 de nuestra revisión crítica de SR, examinamos la ecuación de onda homogénea y sus propiedades bajo las transformaciones de Lorentz. \n",
    "\n",
    "# _Ecuación de Onda Homogénea, Transformaciones de Lorentz y SR_\n",
    "\n",
    "En las Partes 1 y 2 de esta serie nos enfocamos en el espacio de Minkowski, el álgebra lineal de las transformaciones de Lorentz y el cono nulo. Estas discusiones se basaron principalmente en el modelo fotónico de la luz.\n",
    "\n",
    "En la Parte 3 consideramos el modelo ondulatorio de la luz, y específicamente las propiedades de las transformaciones de Lorentz y la ecuación de onda homogénea (EOH).\n",
    "\n",
    "Brevemente, el intento de prueba de Einstein de las afirmaciones (i) y (ii) de que las fórmulas de Lorentz resuelven todas las aparentes contradicciones de (A12) se basa en la idea de que la luz se propaga a una velocidad constante $c$ que es idéntica para todos los observadores. Del argumento del frente de onda esférico de Einstein, vemos que Einstein entendió que (A12) implica que los pulsos de luz se propagan en frentes de onda geométricamente esféricos en _todos_ marcos de referencia inerciales $K$. En términos de EOH, esto implica que existe una clase invariante de Lorentz de soluciones radiales para EOH. Como discutimos a continuación, las soluciones radiales existen canónicamente para cualquier marco de referencia único $K$. Sin embargo, los argumentos de las Partes 1 y 2 demuestran que ningún conjunto invariante de soluciones radiales de Lorentz puede existir simultáneamente para todos los marcos de referencia $K'$.\n",
    "\n",
    "# _d'Alembert cuadrado_ $\\square$ _es un único operador diferencial lineal de segundo orden invariante de Lorentz_\n",
    "\n",
    "En la Parte 1 mencionamos brevemente un resultado interesante de Elton-Arminjon sobre la métrica de Minkowski $$h=d\\xi^2 + d\\eta^2 + d \\zeta^2 - c^2 \\tau^2$$ siendo el única forma cuadrática simétrica invariante de Lorentz en ${\\bf{R}}^4$ (módulo de homotecia). Su prueba tiene un corolario útil en términos de EOH.\n",
    "\n",
    "Sea $\\square$ el operador de onda de d'Alembert. Entonces $\\square$ es un operador diferencial lineal homogéneo de segundo orden, en coordenadas que tienen la forma $$\\square = \\frac{\\partial^2}{\\partial \\xi^2} +\\frac{\\partial^2}{ \\partial \\eta^2}+\\frac{\\partial^2}{\\partial \\zeta^2}-\\frac{1}{c^2}\\frac{\\partial^2 }{\\partial \\tau^2 }.$$\n",
    "\n",
    "Informalmente vemos $\\square$ como esencialmente dual a la forma $h$ de Minkowski. Algo más riguroso, encontramos que el argumento de Elton-Arminjon prueba lo siguiente:\n",
    "\n",
    "- Lema: Sea $C$ el álgebra de funciones polinomiales en ${\\bf{R}}^4$, y sea $\\rho^*$ la representación contragrediente del grupo de Lorentz en $C$. Entonces, el operador de onda de d'Alembert $\\square$ es el único operador diferencial lineal de segundo orden invariante de Lorentz en $C$ módulo de homotecia.\n",
    "\n",
    "De ello se deduce que la afirmación de Einstein (i) de que diferentes marcos inerciales $K, K'$ están relacionados mediante transformaciones de Lorentz también implica que el operador de d'Alembert $\\square$ es esencialmente el único operador de segundo orden definido simultáneamente para todos los observadores inerciales. Esto significa que EOH es la única ecuación de segundo orden invariante de Lorentz en ${\\bf{R}}^4$.\n",
    "\n",
    "La invariancia de Lorentz del EOH implica que las soluciones del EOH son _covariantes_ de Lorentz. Para ser precisos, si $\\phi=\\phi(x,y,z,t)$ es una función regular que satisface el HWE, a saber\n",
    "$$ \\phi_{xx}+\\phi_{yy}+\\phi_{zz}-\\frac{1}{c^2}\\phi_{tt}=0, $$ y si $\\lambda$ es una transformada de Lorentz con $$(\\xi, \\eta, \\zeta, \\tau)=\\lambda.(x,y,z,t),$$ entonces $$\\phi':=\\lambda^*(\\phi)=\\phi\\circ\\lambda^{-1}$$ es nuevamente una solución del EOH: $$\\phi_{\\xi \\xi}+\\phi_{\\eta \\eta}+\\phi_{\\zeta \\zeta}-\\frac{1}{c^2}\\phi_{\\tau \\tau}=0.$$ Esto se verifica mediante cálculo elemental.\n",
    "\n",
    "La discusión anterior es completamente elemental. Más significativa es la interpretación de (A12) en términos de EOH.\n",
    "\n",
    "# _El radio no es una variable invariante de Lorentz_\n",
    "\n",
    "Entendemos que (A12) declara que existe una clase invariante distinguida de Lorentz de soluciones para EOH que corresponden a ondas de luz esféricas. Sin embargo, argumentamos que esto contradice las propiedades de EOH. Específicamente _no existe un conjunto invariante de Lorentz de soluciones radiales para el EOH._\n",
    "\n",
    "De hecho, la variable de radio espacial $r^2=x^2+y^2+z^2$ no es una variable invariante de Lorentz. Esto se discutió en la Parte 2, pero podemos dar otra explicación en términos de grupos de Lie.\n",
    "\n",
    "En términos de teoría de grupos, un observador dice que una solución $\\phi=\\phi(x,t)$ de EOH es _radial $K$_ iff $\\phi(Ax,t)=\\phi(x,t) $ por cada movimiento rígido $A\\in SO(3)$ en las variables espaciales $x,y,z$ de $K$. Implícitamente esto requiere una representación de grupo de Lie $\\rho$ de $SO(3)$ en el grupo de Lorentz $G\\simeq O(3,1)$. Pero esta elección de subgrupo compacto máximo no es canónica. Diferentes observadores inerciales $K, K'$ generalmente eligen diferentes grupos de simetría ortogonal, p. según su propia fórmula física de suma de cuadrados $\\xi^2+\\eta^2+\\zeta^2$.\n",
    "\n",
    "Por supuesto, la forma de Minkowski $h$ es invariante y canónica, pero cualquier descomposición en componentes \"espaciales\" y \"temporales\" requiere _elecciones arbitrarias dependientes del observador_, y estas elecciones no pueden ser invariantes de Lorentz.\n",
    "\n",
    "Por ejemplo, mientras que el conjunto abierto de vectores temporales $\\{h(v) < 0\\}$ se define invariablemente, no hay una elección invariante de Lorentz de vector temporal. Del mismo modo, entre el conjunto espacial $\\{h(v)>0\\}$ no hay una elección invariante de Lorentz de un marco tridimensional ortogonal.\n",
    "\n",
    "\n",
    "Además, para el movimiento de los pulsos de luz según (A12), el elemento de Minkowski se anula de forma idéntica y el único elemento tensor canónico se convierte en el elemento cero constante. Después de un cambio de variables de Lorentz, encontramos una nueva solución $\\phi'$ como la anterior, pero esta solución no necesita ser radial en el marco inercial $K'$. De hecho, el movimiento espacial $K$ rígido $A$ generalmente no preservará las coordenadas espaciales $\\xi, \\eta, \\zeta$ de $K'$. Por lo tanto, encontramos que los movimientos de $A$ dependen de manera no trivial de la variable de tiempo $K'$ $\\tau$. Esto nuevamente refleja la inexistencia de un radio invariante de Lorentz.\n",
    "\n",
    "# _Conclusión_\n",
    "\n",
    "Esto concluye nuestro análisis matemático de los fundamentos de la RS, especialmente los Supuestos de Einstein (A12) y su intento de resolución a través de las fórmulas de Lorentz y las afirmaciones (i) y (ii).\n",
    "\n",
    "En última instancia, las transformaciones de Lorentz no tienen las propiedades necesarias para mantener (A12). La llamada Ley de Propagación de la Luz (A2) no es una ley invariante de Lorentz, y por lo tanto no satisface por sí misma el Principio de Relatividad Restringida como lo supone Einstein en su Suposición (A1).\n",
    "\n",
    "En nuestra Parte 4 final de esta serie, presentamos algunas posibles objeciones a nuestros argumentos e intentamos anticipar algunas críticas. Sin embargo, debemos mantener que todos los argumentos anteriores son _matemáticamente correctos_. Cualquier comentario constructivo o retroalimentación es bienvenido en la dirección del autor jhmLabs &&a.t.&& gmail d&&0t&& com.\n",
    "\n",
    "\n",
    "\n",
    "\n"
   ]
  }
 ],
 "metadata": {
  "kernelspec": {
   "display_name": "Python 3",
   "language": "python",
   "name": "python3"
  },
  "language_info": {
   "codemirror_mode": {
    "name": "ipython",
    "version": 3
   },
   "file_extension": ".py",
   "mimetype": "text/x-python",
   "name": "python",
   "nbconvert_exporter": "python",
   "pygments_lexer": "ipython3",
   "version": "3.9.5"
  }
 },
 "nbformat": 4,
 "nbformat_minor": 5
}
