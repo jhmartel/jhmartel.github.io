{
 "cells": [
  {
   "cell_type": "raw",
   "id": "6b0d70fc-bec3-4eab-9f57-b976ccd57fea",
   "metadata": {},
   "source": [
    "---\n",
    "title: \"Experiment Modified Fizeau Sansbury Spinning Wheel Experiment\"\n",
    "author: \"JHM\"\n",
    "date: \"2022-03-08\"\n",
    "categories: [SR, c, light, fizeau, sansbury]\n",
    "image: \"image.png\"\n",
    "---"
   ]
  },
  {
   "cell_type": "markdown",
   "id": "f5492e4e-93df-4654-98de-33dfb7407d35",
   "metadata": {},
   "source": [
    "In this post we discuss our modified Fizeau-Sansbury spinning sawtooth experiment. To begin we review Fizeau's original 1849 experiment and introduce our modification which allows for testing R. Sansbury's apparatus. While Fizeau studies a saw tooth wheel in uniform motion on the order of twenty rotations per second, Sansbury's setup can be interpreted as either the same wheel in nonuniform motion, or a wheel with variable saw tooth length in uniform motion. We argue that Sansbury's predictions could be tested if Fizeau's wheel could increase it's angular velocity from 20 revolutions per second, to 80 revolutions or 160 revolutions per second. This is not easily realized."
   ]
  },
  {
   "cell_type": "markdown",
   "id": "85a87bad-50ad-4f1e-89dc-0bd120720be2",
   "metadata": {},
   "source": [
    "As described in previous posts, our critical [essay](https://github.com/jhmartel/SR/) on foundations in SR is basically stable and readable. Here we begin to elaborate on the concluding section, which briefly mentions Ralph Sansbury's proposed experiment. Sansbury's experiment is this. We take $c$ the speed of light as equal to $1$ foot per nanosecond $[\\mu s]=10^{-8}$ seconds.\n",
    "\n",
    "# Sansbury's Experiment\n",
    "\n",
    "We quote from Sansbury's [paper](http://www.naturalphilosophy.org/pdf/abstracts/abstracts_5955.pdf) and his book [\"Faster than Light\"](https://www.amazon.ca/Faster-Than-Light-Relativity-Reconsidered-ebook/dp/B00LQT8056). \n",
    "\n",
    "__(Case 1)__ _A $15$ nanosecond light pulse from a laser was sent to a light detector, $30$ feet away. When the light pulse was blocked at the photodiode during the time of emission, but unblocked at the expected time of arrival, $31.2$ nanoseconds after the beginning of the time of emission, for $15$ nanosecond duration, little light was received. (A little more than the $4mV$ noise on the oscilloscope). This process was repeated thousands of times per second._\n",
    "\n",
    "__(Case 2)__ _When the light was unblocked at the photodiode during the time of emission ($15$ nanoseconds) but blocked after the beginning of the time of emission, during the expected time of arrival for $15$ nanoseconds, twice as much light was received ($8mV$). This process was repeated thousands of times per second._\n",
    "\n",
    "Sansbury's conclusion? That _this indicated that light is not a moving wave or photon, but rather the cumulative effect of instantaneous forces at a distance. That is, undetectable oscillations of charge can occur in the atomic nuclei of the photodiode that spill over as detectable oscillations of electrons after a delay._\n",
    "\n",
    "Sansbury found the equipment necessary for the experiment too expensive to rent for an extended period of time, and he was possibly not a sufficient expert in calibrating the equipment. So Sansbury's experiment appears to have not been sufficiently investigated, and we would argue that the experiment has neither been reproduced nor properly reviewed. Thus we turn to the classical Fizeau experiment, and consider its similarities to Sansbury's setup.\n",
    "\n",
    "# Fizeau's Saw Tooth Experiment (1849)\n",
    "\n",
    "Now Sansbury's apparatus has some similarity with Fizeau's sawtooth apparatus, as used circa 1849 to prove some of the first sensible measurements of luminal velocity. \n",
    "\n",
    "[Here](https://skullsinthestars.com/2008/03/31/fizeaus-experiment-the-original-paper/) is a blog which inlcudes a transcription of Fizeau's original 1849 paper in Comptes Rendus.\n",
    "\n",
    "[Here](https://youtu.be/7CUE1Bpz4hM) is an interesting youtube video en francais sur la mesure de Fizeau. Around the 4-5 minute mark is the most interesting. While the speed of the wheel is increased, the received light signal becomes increasingly erratic and intermittent, until a sufficiently high speed of rotation is achieved and the received light signal becomes eventually null and _no light is received_. \n",
    "\n",
    "[Here](https://physics.stackexchange.com/questions/315812/why-does-the-fizeau-measurement-of-the-speed-of-light-use-a-sawtoothed-gear-inst) is a useful physics stackexchange answer. \n",
    "\n",
    "# Sansbury vs. Fizeau\n",
    "\n",
    "Now Fizeau's original setup is a type of Sansbury test where the wheel is in uniform motion. Sansbury's setup involves either a wheel in _nonuniform_ motion, or equivalently a wheel in uniform motion with a nonuniform sawtooth distribution.\n",
    "\n",
    "We remark that Fizeau was historically looking to estimate the luminal velocity $c$. Sansbury's experiment assumes $c$ as given, estimated at $1$ foot per nanosecond. Sansbury's goal is to distinguish light propagation from particle model, and his setup is meant to test whether light is even something that travels at all. \n",
    "\n",
    "Let's review the basic math of Fizeau's apparatus, it's very simple. No matter how we setup the mirrors, we suppose light has some total travel time. In Fizeau's original setup, light travelled a total path of $\\approx 16 km$. With an expected speed of light $c=3\\times 10^8 km$, then the expected travel time is \n",
    "\n",
    "\\begin{equation}\n",
    "\\frac{16 \\times 10^3 [m]}{3 \\times 10^8 [m]/[sec]}=5.333\\ldots \\times 10^{-5} [sec].\\end{equation} \n",
    "\n",
    "Now consider the wheel with angular velocity $\\omega$ having units of $[degrees]/[sec]$ and having a toothlength equal to $1/720$ degrees. The time required to turn one toothlength is therefore $\\frac{1/720}{\\omega}=\\frac{1}{720 \\omega} [sec]$. Thus we find that the expected travel time is equal to the time to rotate one toothlength if the following equality holds $$\\frac{16 \\times 10^3 }{3 \\times 10^8} = \\frac{1}{720 \\omega}, $$ which implies $$\\omega \\approx 26 ~~~\\frac{[rotations]}{[sec]}.$$\n",
    "\n",
    "\n",
    "Sansbury's __(Case 1)__ could be realized if the wheel was allowed to rotate nonuniformly, i.e. if the wheel could be accelerated in \"impulses\" something closer to the actual discrete motions of a clock. For example, if the wheel is initially opened at the time of emission, then immediately rotated one saw tooth length (to the closed position) during the expected time of travel, and just prior to the expected time of arrival is rotated another tooth length (to the open position), then Fizeau would predict that the receiver would observe a strong light source. However Sansbury predicts that the receiver would observe rather a very weak signal. Notice here we require the wheel to move twice as fast as Fizeau's angular velocity. In otherwords the wheel must rotate two complete tooth lengths before the estimated arrival time.\n",
    "\n",
    "Sansbury's __(Case 2)__ could be realized if the wheel was rotating _nonuniformly_. For example, if we keep the wheel fixed during the expected time of flight of the light particle, and turn the wheel one complete toothlength at the expected time of arrival, then Sansbury would predict a relatively strong signal would be received. Fizeau and the particle model would however predict no light would be received, since in the model it would be blocked by the sawtooth at the expected time of arrival.\n",
    "\n",
    "N.B. Fizeau's conception of the sawtooth wheel is _classical_. But what happens if we retrospectively apply the SR methodology to the experiment, what results are obtained? It appears that SR has a null effect on the entire experiment, i.e. returns the same results as the classical case. While the sawteeth lengths are contracting in SR, this effects the circumference of the wheel but not the angular velocity. Thus Fizeau experiment appears insensitive to any Lorentz SR effects and an experiment which cannot prove SR in contrast to the classical mechanics.\n",
    "\n",
    "We do not require mathematics at this stage, but rather to perform an experiment. However there is an intersting math aspect to the question, \"How to keep a nonuniform wheel in uniform motion?\". \n",
    "\n",
    "Fizeau's original wheel was materially balanced: the distribution of teeth was equidistant and regular. The centre of mass corresponded with the axis of rotation. \n",
    "\n",
    "But if we begin to study nonuniform wheels, then the behaviour becomes more difficult depending on, say, whether the centre of mass coincides with the axis of rotation.\n",
    "\n",
    "Some comparisons between Fizeau and Sansbury:\n",
    "\n",
    "1. Fizeau's involves several reflecting mirrors (beam splitters). Therefore there is more interaction involved in Fizeau's setup than with Sansbury's. For Fizeau's is a type of two-way trip of light, where the source and receiver are space-coincident. But Sansbury's is a one-way trip, requiring some electronics at the receiver namely a photodiode, to measure the amount of electrons released by the light emission.\n",
    "\n",
    "2. If the phase of Fizeau's wheel could be controlled, then we could compare the behaviour of the experiment when the wheels differ by one saw tooth length. The trouble in Fizeau is that, because the source and receiver coincide, it's evident that no light is emitted when the phase is shifted one tooth length. Sansbury's experiment however does emphatically require the apparatus to be _open_ at the moment of emission. \n",
    "\n",
    "# Faster Fizeau Wheels\n",
    "\n",
    "We could test some of Sansbury's ideas if we could increase the angular velocity of the Fizeau wheel by factor of $4$, i.e. we need a wheel of roughly $100$ revolutions per second instead of $20$ revolutions per second. \n",
    "\n",
    "Given such a revolution speed, then we could change the sawtooth pattern of the wheels, having some that are $1/4$ closed, $1/2$ closed, and $3/4$ closed wheels. For example, we could have the alternating sawtooth $$\\ldots 0101010101 \\ldots$$ or we could have $$\\ldots 001100110011 \\ldots$$ both of which are $1/2$ closed but having different patterns. And these patterns would have different predictions depending on the photon model or Sansbury's cumulative action-at-a-distance. Likewise it would be interesting to compare the predictions given a wheel having a $1/4$-closed sawtooth pattern $$\\ldots 0001000100010001 \\ldots$$ versus a $3/4$-closed pattern $$ \\ldots 0111011101110111\\ldots.$$\n",
    "\n",
    "If we could get the Fizeau wheel to spin $200$ revolutions per second, then we could test the theories according to $8$-periodic patterns, i.e. with sawtooth patterns being $1/8, 2/8$, $\\ldots$, $7/8$ths closed. \n",
    "\n",
    "If we could build a larger wheel with more teeth, say, $1440$ teeth, then $2880$ teeth, then basic gear ratio would increase the speed of the initial _pinion_ wheel by factor of $\\times 2$, $\\times 4$, etc..\n",
    "\n",
    "The heuristics by which we can determine reasonable revolutions per second depends probably on some energy estimates and would require smaller and smaller radii. \n",
    "\n",
    "[To be continued...]\n"
   ]
  }
 ],
 "metadata": {
  "kernelspec": {
   "display_name": "Python 3",
   "language": "python",
   "name": "python3"
  },
  "language_info": {
   "codemirror_mode": {
    "name": "ipython",
    "version": 3
   },
   "file_extension": ".py",
   "mimetype": "text/x-python",
   "name": "python",
   "nbconvert_exporter": "python",
   "pygments_lexer": "ipython3",
   "version": "3.9.5"
  }
 },
 "nbformat": 4,
 "nbformat_minor": 5
}
