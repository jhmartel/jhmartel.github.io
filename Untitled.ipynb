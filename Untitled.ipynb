{
 "cells": [
  {
   "cell_type": "raw",
   "id": "28bd3698-6aa4-47c7-a685-e0136a09578d",
   "metadata": {},
   "source": [
    "---\n",
    "title: \"March Quarto Title\"\n",
    "author: \"JHM\"\n",
    "date: \"2022-03-06\"\n",
    "---"
   ]
  },
  {
   "cell_type": "markdown",
   "id": "ce291c87-5b36-4fd2-a9eb-e06c460fe25a",
   "metadata": {},
   "source": [
    "We have relocated JHM Labs to Ottawa region, and the transition to Quarto has been somewhat delayed, but here we begin the process. \n",
    "\n",
    "Does this math equation render? \n",
    "\n"
   ]
  }
 ],
 "metadata": {
  "kernelspec": {
   "display_name": "Python 3",
   "language": "python",
   "name": "python3"
  },
  "language_info": {
   "codemirror_mode": {
    "name": "ipython",
    "version": 3
   },
   "file_extension": ".py",
   "mimetype": "text/x-python",
   "name": "python",
   "nbconvert_exporter": "python",
   "pygments_lexer": "ipython3",
   "version": "3.9.5"
  }
 },
 "nbformat": 4,
 "nbformat_minor": 5
}
